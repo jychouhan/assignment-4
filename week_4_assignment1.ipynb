{
 "cells": [
  {
   "cell_type": "code",
   "execution_count": 1,
   "id": "82796ad4-d8c0-4556-af7f-158bf59c24b2",
   "metadata": {},
   "outputs": [],
   "source": [
    "# Answer 1"
   ]
  },
  {
   "cell_type": "code",
   "execution_count": 2,
   "id": "9c2ef26a-ff66-4a7b-9577-875e1d3c18a4",
   "metadata": {},
   "outputs": [],
   "source": [
    "class vehicle:\n",
    "    def __init__(self,vehicle_name,maximum_speed,vehicle_average):\n",
    "        self.name_of_vehicle = vehicle_name\n",
    "        self.max_speed = maximum_speed\n",
    "        self.average_of_vehicle = vehicle_average"
   ]
  },
  {
   "cell_type": "code",
   "execution_count": 3,
   "id": "f13cf665-cd39-405d-b167-2ceda9d6b590",
   "metadata": {},
   "outputs": [],
   "source": [
    "# Answer 2"
   ]
  },
  {
   "cell_type": "code",
   "execution_count": 4,
   "id": "61f05bdc-2092-4893-a0aa-9dcce36bab53",
   "metadata": {},
   "outputs": [],
   "source": [
    "class car(vehicle):\n",
    "    def seating_capacity(self,capacity):\n",
    "        return f\"name of vehicle: {self.name_of_vehicle} , seating capacity: {capacity}\""
   ]
  },
  {
   "cell_type": "code",
   "execution_count": 5,
   "id": "c14c9601-b97a-43ed-833c-6b07c9d144d9",
   "metadata": {},
   "outputs": [],
   "source": [
    "tata = car(\"harrier\", \"260 KM/h\", 16)"
   ]
  },
  {
   "cell_type": "code",
   "execution_count": 6,
   "id": "74a47057-895c-4caf-88ea-1d07de73ce16",
   "metadata": {},
   "outputs": [
    {
     "data": {
      "text/plain": [
       "'name of vehicle: harrier , seating capacity: 7'"
      ]
     },
     "execution_count": 6,
     "metadata": {},
     "output_type": "execute_result"
    }
   ],
   "source": [
    "tata.seating_capacity(7)"
   ]
  },
  {
   "cell_type": "code",
   "execution_count": 7,
   "id": "0d9c6baf-876a-4ca9-9ccd-dd7ba8a743cb",
   "metadata": {},
   "outputs": [],
   "source": [
    "# Answer3"
   ]
  },
  {
   "cell_type": "code",
   "execution_count": 8,
   "id": "1bef5d80-97e0-48bd-8a94-c5ecfb78ea59",
   "metadata": {},
   "outputs": [
    {
     "data": {
      "text/plain": [
       "' Multiple inheritence allows a class to inherit attributes and methods from multiple parent classes.'"
      ]
     },
     "execution_count": 8,
     "metadata": {},
     "output_type": "execute_result"
    }
   ],
   "source": [
    "\"\"\" Multiple inheritence allows a class to inherit attributes and methods from multiple parent classes.\"\"\""
   ]
  },
  {
   "cell_type": "code",
   "execution_count": 9,
   "id": "7e811bc3-c238-47d7-887e-d8948d38b948",
   "metadata": {},
   "outputs": [],
   "source": [
    "class son:\n",
    "    def complain(self):\n",
    "        return \"he did not completed his homework \"\n",
    "        "
   ]
  },
  {
   "cell_type": "code",
   "execution_count": 10,
   "id": "6cad729f-3a7b-4c01-832e-2ccabcb0042a",
   "metadata": {},
   "outputs": [],
   "source": [
    "class daughter:\n",
    "    def compliment(self):\n",
    "        return \"she got 17 out of 25 in science\""
   ]
  },
  {
   "cell_type": "code",
   "execution_count": 11,
   "id": "5030f453-16be-467d-8f7d-7eddcf86ebf2",
   "metadata": {},
   "outputs": [],
   "source": [
    "class father(son, daughter):\n",
    "    pass\n",
    "    "
   ]
  },
  {
   "cell_type": "code",
   "execution_count": 12,
   "id": "3b9c04cd-1d54-4fb4-89b6-f259ff5d5dd2",
   "metadata": {},
   "outputs": [],
   "source": [
    "father = father()"
   ]
  },
  {
   "cell_type": "code",
   "execution_count": 13,
   "id": "5c0fa74e-00b0-4a87-99a0-7e7b6daa3d35",
   "metadata": {},
   "outputs": [
    {
     "data": {
      "text/plain": [
       "'she got 17 out of 25 in science'"
      ]
     },
     "execution_count": 13,
     "metadata": {},
     "output_type": "execute_result"
    }
   ],
   "source": [
    "father.compliment()"
   ]
  },
  {
   "cell_type": "code",
   "execution_count": 14,
   "id": "17e313da-5b77-4512-af20-935bd5ddb095",
   "metadata": {},
   "outputs": [],
   "source": [
    "# Answer4"
   ]
  },
  {
   "cell_type": "code",
   "execution_count": 15,
   "id": "917a7e23-4a63-47ed-8f3a-a71d60ee8d6d",
   "metadata": {},
   "outputs": [
    {
     "data": {
      "text/plain": [
       "' getter and setter methods are used to access and modify class attributes respectively, following the principle of encapsulation. they provide control access to the class attributes and help in ensuring data integrity.'"
      ]
     },
     "execution_count": 15,
     "metadata": {},
     "output_type": "execute_result"
    }
   ],
   "source": [
    "\"\"\" getter and setter methods are used to access and modify class attributes respectively, following the principle of encapsulation. they provide control access to the class attributes and help in ensuring data integrity.\"\"\""
   ]
  },
  {
   "cell_type": "code",
   "execution_count": 16,
   "id": "13c2c3be-cc19-41c6-94a1-5809fa12c8b2",
   "metadata": {},
   "outputs": [],
   "source": [
    "class person:\n",
    "    def __init__(self, name, age, sex):\n",
    "        self.__name = name\n",
    "        self.__age  = age\n",
    "        self.sex = sex\n",
    "        \n",
    "    def get_name(self):\n",
    "        return self.__name\n",
    "    \n",
    "    def set_name(self, name):\n",
    "        self.__name = name\n",
    "        return self.__name\n",
    "    "
   ]
  },
  {
   "cell_type": "code",
   "execution_count": 17,
   "id": "f364dc0d-a3c1-4822-9a53-493ec942e547",
   "metadata": {},
   "outputs": [],
   "source": [
    "prsn = person(\"kritika\", 26, \"female\")"
   ]
  },
  {
   "cell_type": "code",
   "execution_count": 18,
   "id": "ac63506c-9c4f-4dab-b789-5aea6f3d2e27",
   "metadata": {},
   "outputs": [
    {
     "data": {
      "text/plain": [
       "'kritika'"
      ]
     },
     "execution_count": 18,
     "metadata": {},
     "output_type": "execute_result"
    }
   ],
   "source": [
    "prsn.get_name()"
   ]
  },
  {
   "cell_type": "code",
   "execution_count": 19,
   "id": "4ff2a2fc-044b-4c42-b73e-a04073782380",
   "metadata": {},
   "outputs": [
    {
     "data": {
      "text/plain": [
       "'kanishka'"
      ]
     },
     "execution_count": 19,
     "metadata": {},
     "output_type": "execute_result"
    }
   ],
   "source": [
    "prsn.set_name(\"kanishka\")"
   ]
  },
  {
   "cell_type": "code",
   "execution_count": 20,
   "id": "eee0d8e1-2ad7-4b13-a3b6-e21bc64b5735",
   "metadata": {},
   "outputs": [
    {
     "data": {
      "text/plain": [
       "'kanishka'"
      ]
     },
     "execution_count": 20,
     "metadata": {},
     "output_type": "execute_result"
    }
   ],
   "source": [
    "prsn.get_name()"
   ]
  },
  {
   "cell_type": "code",
   "execution_count": 21,
   "id": "f48a105f-c65d-4a19-a58d-6df17b775799",
   "metadata": {},
   "outputs": [],
   "source": [
    "# Answer5"
   ]
  },
  {
   "cell_type": "code",
   "execution_count": 22,
   "id": "667fe4f1-54de-42ca-a524-c8257a99f210",
   "metadata": {},
   "outputs": [
    {
     "data": {
      "text/plain": [
       "' overriding refers to the ability to redefine a method inherited from the superclass in a subclass with the same name but different implementation. it allows the subclass to provide a different behavior for the same method defined in its superclass.'"
      ]
     },
     "execution_count": 22,
     "metadata": {},
     "output_type": "execute_result"
    }
   ],
   "source": [
    "\"\"\" overriding refers to the ability to redefine a method inherited from the superclass in a subclass with the same name but different implementation. it allows the subclass to provide a different behavior for the same method defined in its superclass.\"\"\""
   ]
  },
  {
   "cell_type": "code",
   "execution_count": 23,
   "id": "5768166f-cfc5-460c-9b07-ff5e1cf7694d",
   "metadata": {},
   "outputs": [],
   "source": [
    "class childrens:\n",
    "    def schools_name(self):\n",
    "        print(\"childrens goes school\")"
   ]
  },
  {
   "cell_type": "code",
   "execution_count": 24,
   "id": "08d8594f-0926-4574-b0f3-0d6f0320abbc",
   "metadata": {},
   "outputs": [],
   "source": [
    "class ketan(childrens):\n",
    "    def schools_name(self):\n",
    "        print(\"delhi public school\")"
   ]
  },
  {
   "cell_type": "code",
   "execution_count": 25,
   "id": "3918436b-2158-4936-8b72-63d60aba6b94",
   "metadata": {},
   "outputs": [],
   "source": [
    "class shweta(childrens):\n",
    "    def schools_name(self):\n",
    "        print(\"india public school\")"
   ]
  },
  {
   "cell_type": "code",
   "execution_count": 26,
   "id": "410fe400-66cf-4e24-a9c8-13ec75479579",
   "metadata": {},
   "outputs": [],
   "source": [
    "childrens = childrens()"
   ]
  },
  {
   "cell_type": "code",
   "execution_count": 27,
   "id": "d07bcde4-2ae2-47ef-baea-8668e92768cf",
   "metadata": {},
   "outputs": [
    {
     "name": "stdout",
     "output_type": "stream",
     "text": [
      "childrens goes school\n"
     ]
    }
   ],
   "source": [
    "childrens.schools_name()"
   ]
  },
  {
   "cell_type": "code",
   "execution_count": 28,
   "id": "bd0d3e21-14e5-46d3-96e9-6dd3e0a1ed80",
   "metadata": {},
   "outputs": [],
   "source": [
    "ketan = ketan()"
   ]
  },
  {
   "cell_type": "code",
   "execution_count": 29,
   "id": "4fa88a2b-a5f4-4d51-a800-63ebfe61f6bb",
   "metadata": {},
   "outputs": [
    {
     "name": "stdout",
     "output_type": "stream",
     "text": [
      "delhi public school\n"
     ]
    }
   ],
   "source": [
    "ketan.schools_name()"
   ]
  }
 ],
 "metadata": {
  "kernelspec": {
   "display_name": "Python 3 (ipykernel)",
   "language": "python",
   "name": "python3"
  },
  "language_info": {
   "codemirror_mode": {
    "name": "ipython",
    "version": 3
   },
   "file_extension": ".py",
   "mimetype": "text/x-python",
   "name": "python",
   "nbconvert_exporter": "python",
   "pygments_lexer": "ipython3",
   "version": "3.10.8"
  }
 },
 "nbformat": 4,
 "nbformat_minor": 5
}
